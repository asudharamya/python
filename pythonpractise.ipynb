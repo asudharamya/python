{
 "cells": [
  {
   "cell_type": "code",
   "execution_count": 8,
   "id": "81d38b58",
   "metadata": {},
   "outputs": [
    {
     "name": "stdout",
     "output_type": "stream",
     "text": [
      "red apple\n",
      "red banana\n",
      "red grapes\n",
      "big apple\n",
      "big banana\n",
      "big grapes\n",
      "tasty apple\n",
      "tasty banana\n",
      "tasty grapes\n"
     ]
    }
   ],
   "source": [
    "fruits=[\"apple\",\"banana\",\"grapes\"]\n",
    "adj=[\"red\",\"big\",\"tasty\"]\n",
    "for x in adj:\n",
    "    for y in fruits:\n",
    "        print(x,y)"
   ]
  },
  {
   "cell_type": "code",
   "execution_count": 9,
   "id": "98ea4cff",
   "metadata": {},
   "outputs": [
    {
     "name": "stdout",
     "output_type": "stream",
     "text": [
      "1\n"
     ]
    }
   ],
   "source": [
    "a=1\n",
    "print(a)\n"
   ]
  },
  {
   "cell_type": "code",
   "execution_count": 10,
   "id": "e8fc2ad5",
   "metadata": {},
   "outputs": [
    {
     "name": "stdout",
     "output_type": "stream",
     "text": [
      "30\n"
     ]
    }
   ],
   "source": [
    "a=10\n",
    "b=20\n",
    "print(a+b)"
   ]
  },
  {
   "cell_type": "code",
   "execution_count": 11,
   "id": "8c6cee93",
   "metadata": {},
   "outputs": [
    {
     "name": "stdout",
     "output_type": "stream",
     "text": [
      "amcat\n"
     ]
    }
   ],
   "source": [
    "a=\"am\"\n",
    "b=\"cat\"\n",
    "print(a+b)\n"
   ]
  },
  {
   "cell_type": "code",
   "execution_count": 12,
   "id": "4f0deef9",
   "metadata": {},
   "outputs": [
    {
     "name": "stdout",
     "output_type": "stream",
     "text": [
      "30\n"
     ]
    }
   ],
   "source": [
    "def add(a, b):\n",
    "    c = a + b\n",
    "    return c\n",
    "x = 10\n",
    "y = 20\n",
    "z = add(x, y)\n",
    "print(z)"
   ]
  },
  {
   "cell_type": "code",
   "execution_count": 18,
   "id": "857c081e",
   "metadata": {},
   "outputs": [
    {
     "name": "stdout",
     "output_type": "stream",
     "text": [
      "30\n"
     ]
    }
   ],
   "source": [
    "def oper(a,b):\n",
    "    c=a+b\n",
    "    d=c*b\n",
    "    return c\n",
    "    return d\n",
    "x=10\n",
    "y=20\n",
    "z=oper(x,y)\n",
    "print(z)\n"
   ]
  },
  {
   "cell_type": "code",
   "execution_count": 46,
   "id": "20de6a1f",
   "metadata": {},
   "outputs": [],
   "source": [
    "class Deloitte:\n",
    "    pass"
   ]
  },
  {
   "cell_type": "code",
   "execution_count": 47,
   "id": "08a0ccc9",
   "metadata": {},
   "outputs": [],
   "source": [
    "delIns = Deloitte()\n"
   ]
  },
  {
   "cell_type": "code",
   "execution_count": 48,
   "id": "8cbb1c2a",
   "metadata": {},
   "outputs": [
    {
     "name": "stdout",
     "output_type": "stream",
     "text": [
      "<__main__.Deloitte object at 0x000001C09D356C40>\n"
     ]
    }
   ],
   "source": [
    "print(delIns)"
   ]
  },
  {
   "cell_type": "code",
   "execution_count": 26,
   "id": "e448a28f",
   "metadata": {},
   "outputs": [],
   "source": [
    "class Deloitte:\n",
    "    pass"
   ]
  },
  {
   "cell_type": "code",
   "execution_count": 27,
   "id": "f1f5552c",
   "metadata": {},
   "outputs": [],
   "source": [
    "delIns = Deloitte()"
   ]
  },
  {
   "cell_type": "code",
   "execution_count": 28,
   "id": "59bc1984",
   "metadata": {},
   "outputs": [
    {
     "name": "stdout",
     "output_type": "stream",
     "text": [
      "<__main__.Deloitte object at 0x000001C09D416340>\n"
     ]
    }
   ],
   "source": [
    "print(delIns)"
   ]
  },
  {
   "cell_type": "code",
   "execution_count": 30,
   "id": "129aa582",
   "metadata": {},
   "outputs": [],
   "source": [
    "delIns.name = 'Amar'\n",
    "delIns.occupation = 'Training'\n",
    "delIns.batch = 'B'"
   ]
  },
  {
   "cell_type": "code",
   "execution_count": 31,
   "id": "becfd777",
   "metadata": {},
   "outputs": [
    {
     "name": "stdout",
     "output_type": "stream",
     "text": [
      "Amar\n"
     ]
    }
   ],
   "source": [
    "print(delIns.name)"
   ]
  },
  {
   "cell_type": "code",
   "execution_count": 38,
   "id": "4a9118c0",
   "metadata": {},
   "outputs": [],
   "source": [
    "countries=[\"india\",\"america\",\"austrilia\",\"sweden\"]"
   ]
  },
  {
   "cell_type": "code",
   "execution_count": 40,
   "id": "287fab0d",
   "metadata": {},
   "outputs": [
    {
     "name": "stdout",
     "output_type": "stream",
     "text": [
      "india\n"
     ]
    }
   ],
   "source": [
    "a=countries[0]\n",
    "for x in countries:\n",
    "    if x==a:\n",
    "        print(x)\n",
    "    else:\n",
    "        a=x\n",
    "        "
   ]
  },
  {
   "cell_type": "code",
   "execution_count": 51,
   "id": "56cecf09",
   "metadata": {},
   "outputs": [],
   "source": [
    "countries=[\"Afghanistan\", \"Albania\", \"Algeria\", \"Andorra\", \"Angola\", \"Antigua and Barbuda\", \"Argentina\", \"Armenia\", \"Australia\", \"Austria\", \"Azerbaijan\", \"The Bahamas\", \"Bahrain\", \"Bangladesh\", \"Barbados\", \"Belarus\", \"Belgium\", \"Belize\", \"Benin\", \"Bhutan\", \"Bolivia\", \"Bosnia and Herzegovina\", \"Botswana\", \"Brazil\", \"Brunei\", \"Bulgaria\", \"Burkina Faso\", \"Burundi\", \"Cambodia\", \"Cameroon\", \"Canada\", \"Cape Verde\", \"Central African Republic\", \"Chad\", \"Chile\", \"China\", \"Colombia\", \"Comoros\", \"Congo, Republic of the\", \"Congo, Democratic Republic of the\", \"Costa Rica\", \"Cote dIvoire\", \"Croatia\", \"Cuba\", \"Cyprus\", \"Czech Republic\", \"Denmark\", \"Djibouti\", \"Dominica\", \"Dominican Republic\", \"East Timor (Timor-Leste)\", \"Ecuador\", \"Egypt\", \"El Salvador\", \"Equatorial Guinea\", \"Eritrea\", \"Estonia\", \"Ethiopia\", \"Fiji\", \"Finland\", \"France\", \"Gabon\", \"The Gambia\", \"Georgia\", \"Germany\", \"Ghana\", \"Greece\", \"Grenada\", \"Guatemala\", \"Guinea\", \"Guinea-Bissau\", \"Guyana\", \"Haiti\", \"Honduras\", \"Hungary\", \"Iceland\", \"India\", \"Indonesia\", \"Iran\", \"Iraq\", \"Ireland\", \"Israel\", \"Italy\", \"Jamaica\", \"Japan\", \"Jordan\", \"Kazakhstan\", \"Kenya\", \"Kiribati\", \"Korea, North\", \"Korea, South\", \"Kosovo\", \"Kuwait\", \"Kyrgyzstan\", \"Laos\", \"Latvia\", \"Lebanon\", \"Lesotho\", \"Liberia\", \"Libya\", \"Liechtenstein\", \"Lithuania\", \"Luxembourg\", \"Macedonia\", \"Madagascar\", \"Malawi\", \"Malaysia\", \"Maldives\", \"Mali\", \"Malta\", \"Marshall Islands\", \"Mauritania\", \"Mauritius\", \"Mexico\", \"Micronesia, Federated States of\", \"Moldova\", \"Monaco\", \"Mongolia\", \"Montenegro\", \"Morocco\", \"Mozambique\", \"Myanmar (Burma)\", \"Namibia\", \"Nauru\", \"Nepal\", \"Netherlands\", \"New Zealand\", \"Nicaragua\", \"Niger\", \"Nigeria\", \"Norway\", \"Oman\", \"Pakistan\", \"Palau\", \"Panama\", \"Papua New Guinea\", \"Paraguay\", \"Peru\", \"Philippines\", \"Poland\", \"Portugal\", \"Qatar\", \"Romania\", \"Russia\", \"Rwanda\", \"Saint Kitts and Nevis\", \"Saint Lucia\", \"Saint Vincent and the Grenadines\", \"Samoa\", \"San Marino\", \"Sao Tome and Principe\", \"Saudi Arabia\", \"Senegal\", \"Serbia\", \"Seychelles\", \"Sierra Leone\", \"Singapore\", \"Slovakia\", \"Slovenia\", \"Solomon Islands\", \"Somalia\", \"South Africa\", \"South Sudan\", \"Spain\", \"Sri Lanka\", \"Sudan\", \"Suriname\", \"Swaziland\", \"Sweden\", \"Switzerland\", \"Syria\", \"Taiwan\", \"Tajikistan\", \"Tanzania\", \"Thailand\", \"Togo\", \"Tonga\", \"Trinidad and Tobago\", \"Tunisia\", \"Turkey\", \"Turkmenistan\", \"Tuvalu\", \"Uganda\", \"Ukraine\", \"United Arab Emirates\", \"United Kingdom\", \"United States of America\", \"Uruguay\", \"Uzbekistan\", \"Vanuatu\", \"Vatican City (Holy See)\", \"Venezuela\", \"Vietnam\", \"Yemen\", \"Zambia\", \"Zimbabwe\"]"
   ]
  },
  {
   "cell_type": "code",
   "execution_count": 56,
   "id": "b5bb3fab",
   "metadata": {},
   "outputs": [
    {
     "name": "stdout",
     "output_type": "stream",
     "text": [
      "Pakistan\n",
      "Palau\n",
      "Panama\n",
      "Papua New Guinea\n",
      "Paraguay\n"
     ]
    }
   ],
   "source": [
    "key='pa'\n",
    "klen=len(key)\n",
    "for country in countries:\n",
    "    if key.lower()==country[:klen].lower():\n",
    "        print(country)"
   ]
  },
  {
   "cell_type": "code",
   "execution_count": 55,
   "id": "cccd2f08",
   "metadata": {},
   "outputs": [
    {
     "name": "stdout",
     "output_type": "stream",
     "text": [
      "angola\n"
     ]
    }
   ],
   "source": [
    "key='angal'\n",
    "possible=[]\n",
    "for country in countries:\n",
    "    country=country.lower()\n",
    "    count=0\n",
    "    for i,j in zip(key,country):\n",
    "        if i!=j:\n",
    "            count+=1\n",
    "    if count<=1:\n",
    "        print(country)"
   ]
  },
  {
   "cell_type": "code",
   "execution_count": 57,
   "id": "b7665aa9",
   "metadata": {},
   "outputs": [
    {
     "name": "stdout",
     "output_type": "stream",
     "text": [
      "[10, 20, 30]\n",
      "[40, 50, 60]\n",
      "[60, 50, 40, 30, 20, 10]\n"
     ]
    }
   ],
   "source": [
    "a = [10, 20, 30]\n",
    "\n",
    "b = [40, 50, 60]\n",
    "\n",
    "print(a)\n",
    "print(b)\n",
    "\n",
    "c = a + b\n",
    "\n",
    "print(c[::-1])"
   ]
  },
  {
   "cell_type": "code",
   "execution_count": null,
   "id": "f34ba5d0",
   "metadata": {},
   "outputs": [],
   "source": []
  }
 ],
 "metadata": {
  "kernelspec": {
   "display_name": "Python 3",
   "language": "python",
   "name": "python3"
  },
  "language_info": {
   "codemirror_mode": {
    "name": "ipython",
    "version": 3
   },
   "file_extension": ".py",
   "mimetype": "text/x-python",
   "name": "python",
   "nbconvert_exporter": "python",
   "pygments_lexer": "ipython3",
   "version": "3.8.8"
  }
 },
 "nbformat": 4,
 "nbformat_minor": 5
}
