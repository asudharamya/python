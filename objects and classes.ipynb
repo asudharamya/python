{
 "cells": [
  {
   "cell_type": "code",
   "execution_count": 8,
   "id": "f83b3c59",
   "metadata": {},
   "outputs": [],
   "source": [
    "def School():\n",
    "    pass"
   ]
  },
  {
   "cell_type": "code",
   "execution_count": 5,
   "id": "1d221dd4",
   "metadata": {},
   "outputs": [],
   "source": [
    "class School:\n",
    "    \n",
    "    def f(self):\n",
    "        a = 10\n",
    "        return a"
   ]
  },
  {
   "cell_type": "code",
   "execution_count": 6,
   "id": "7b6944d3",
   "metadata": {},
   "outputs": [],
   "source": [
    "sclobj = School()"
   ]
  },
  {
   "cell_type": "code",
   "execution_count": 7,
   "id": "13df6ce9",
   "metadata": {},
   "outputs": [
    {
     "name": "stdout",
     "output_type": "stream",
     "text": [
      "10\n"
     ]
    }
   ],
   "source": [
    "print(sclobj.f())"
   ]
  },
  {
   "cell_type": "code",
   "execution_count": 9,
   "id": "e4bf56b4",
   "metadata": {},
   "outputs": [],
   "source": [
    "class School:\n",
    "    \n",
    "    def f(self, a, b):\n",
    "        return a+b"
   ]
  },
  {
   "cell_type": "code",
   "execution_count": 10,
   "id": "e1aa47bd",
   "metadata": {},
   "outputs": [
    {
     "name": "stdout",
     "output_type": "stream",
     "text": [
      "30\n"
     ]
    }
   ],
   "source": [
    "sclob1 = School()\n",
    "c = sclob1.f(10, 20)\n",
    "print(c)\n"
   ]
  },
  {
   "cell_type": "code",
   "execution_count": 20,
   "id": "8a97ca41",
   "metadata": {},
   "outputs": [],
   "source": [
    "class Deloitte:\n",
    "    def setvalues(self, x, y):\n",
    "        self.a = x\n",
    "        self.b = y\n",
    "    def add(self):\n",
    "        return self.a + self.b"
   ]
  },
  {
   "cell_type": "code",
   "execution_count": 21,
   "id": "f05689a9",
   "metadata": {},
   "outputs": [],
   "source": [
    "delob2 = Deloitte()"
   ]
  },
  {
   "cell_type": "code",
   "execution_count": 22,
   "id": "c49577c7",
   "metadata": {},
   "outputs": [],
   "source": [
    "delob2.setvalues(10, 20)"
   ]
  },
  {
   "cell_type": "code",
   "execution_count": 23,
   "id": "718ad2d6",
   "metadata": {},
   "outputs": [],
   "source": [
    "c= delob2.add()"
   ]
  },
  {
   "cell_type": "code",
   "execution_count": 24,
   "id": "36472109",
   "metadata": {},
   "outputs": [
    {
     "name": "stdout",
     "output_type": "stream",
     "text": [
      "30\n"
     ]
    }
   ],
   "source": [
    "print(c)"
   ]
  },
  {
   "cell_type": "code",
   "execution_count": 25,
   "id": "7dc7c411",
   "metadata": {},
   "outputs": [],
   "source": [
    "class Deloitte:\n",
    "    def __init__(self):\n",
    "        self.a = 10\n",
    "\n",
    "    def val(self):\n",
    "        return self.a"
   ]
  },
  {
   "cell_type": "code",
   "execution_count": 26,
   "id": "c571898f",
   "metadata": {},
   "outputs": [],
   "source": [
    "delob4 = Deloitte()"
   ]
  },
  {
   "cell_type": "code",
   "execution_count": 27,
   "id": "0119d3de",
   "metadata": {},
   "outputs": [
    {
     "data": {
      "text/plain": [
       "10"
      ]
     },
     "execution_count": 27,
     "metadata": {},
     "output_type": "execute_result"
    }
   ],
   "source": [
    "delob4.val()"
   ]
  },
  {
   "cell_type": "code",
   "execution_count": 33,
   "id": "fdc64dfe",
   "metadata": {},
   "outputs": [],
   "source": [
    "class Deloitte:\n",
    "    def __init__(self,x):\n",
    "        self.a = x\n",
    "\n",
    "    def val(self):\n",
    "        return self.a"
   ]
  },
  {
   "cell_type": "code",
   "execution_count": 34,
   "id": "5f618d0f",
   "metadata": {},
   "outputs": [],
   "source": [
    "delob5 = Deloitte(55)"
   ]
  },
  {
   "cell_type": "code",
   "execution_count": 36,
   "id": "fd5040d5",
   "metadata": {},
   "outputs": [
    {
     "name": "stdout",
     "output_type": "stream",
     "text": [
      "55\n"
     ]
    }
   ],
   "source": [
    "print(delob5.val())"
   ]
  },
  {
   "cell_type": "code",
   "execution_count": 37,
   "id": "f4368fbf",
   "metadata": {},
   "outputs": [],
   "source": [
    "class Deloitte:\n",
    "    ptr = ''\n",
    "    lis = []\n",
    "    def add(self, x):\n",
    "        if self.ptr == '':\n",
    "            self.lis.append(x)\n",
    "        self.ptr = 'added'  \n",
    "        \n",
    "    def val(self):\n",
    "        return self.lis"
   ]
  },
  {
   "cell_type": "code",
   "execution_count": 38,
   "id": "4b969b60",
   "metadata": {},
   "outputs": [],
   "source": [
    "obj2 = Deloitte()"
   ]
  },
  {
   "cell_type": "code",
   "execution_count": 39,
   "id": "9b48af3f",
   "metadata": {},
   "outputs": [],
   "source": [
    "obj2.add(10)"
   ]
  },
  {
   "cell_type": "code",
   "execution_count": 40,
   "id": "d04b9200",
   "metadata": {},
   "outputs": [],
   "source": [
    "obj2.add(20)"
   ]
  },
  {
   "cell_type": "code",
   "execution_count": 41,
   "id": "6094cafa",
   "metadata": {},
   "outputs": [
    {
     "name": "stdout",
     "output_type": "stream",
     "text": [
      "[10]\n"
     ]
    }
   ],
   "source": [
    "print(obj2.val())"
   ]
  },
  {
   "cell_type": "code",
   "execution_count": null,
   "id": "a834c22c",
   "metadata": {},
   "outputs": [],
   "source": [
    "# SingleTon"
   ]
  },
  {
   "cell_type": "code",
   "execution_count": 42,
   "id": "646c20f5",
   "metadata": {},
   "outputs": [],
   "source": [
    "# Constructor\n",
    "class Deloitte:\n",
    "    delobj = ''\n",
    "    def ini(self):\n",
    "        if self.delobj == '':\n",
    "            self.delobj = Deloitte()\n",
    "        else:\n",
    "            print('Already initialized')\n",
    "        return self.delobj"
   ]
  },
  {
   "cell_type": "code",
   "execution_count": 43,
   "id": "95015a70",
   "metadata": {},
   "outputs": [],
   "source": [
    "obj3 = Deloitte()"
   ]
  },
  {
   "cell_type": "code",
   "execution_count": 44,
   "id": "96a92411",
   "metadata": {},
   "outputs": [],
   "source": [
    "singleton = obj3.ini()"
   ]
  },
  {
   "cell_type": "code",
   "execution_count": 45,
   "id": "cb2ac340",
   "metadata": {},
   "outputs": [
    {
     "name": "stdout",
     "output_type": "stream",
     "text": [
      "<__main__.Deloitte object at 0x000002DC3DB6FC10>\n"
     ]
    }
   ],
   "source": [
    "print(singleton)"
   ]
  },
  {
   "cell_type": "code",
   "execution_count": 46,
   "id": "764e0bff",
   "metadata": {},
   "outputs": [
    {
     "name": "stdout",
     "output_type": "stream",
     "text": [
      "Already initialized\n"
     ]
    },
    {
     "data": {
      "text/plain": [
       "<__main__.Deloitte at 0x2dc3db6fc10>"
      ]
     },
     "execution_count": 46,
     "metadata": {},
     "output_type": "execute_result"
    }
   ],
   "source": [
    "obj3.ini()"
   ]
  },
  {
   "cell_type": "code",
   "execution_count": 47,
   "id": "98027ddc",
   "metadata": {},
   "outputs": [],
   "source": [
    "# Constructor\n",
    "class Deloitte:\n",
    "    temp = ''\n",
    "    delobj = ''\n",
    "    def ini(self):\n",
    "        if self.temp == '':\n",
    "            self.temp = 'initialized'\n",
    "            self.delobj = Deloitte()\n",
    "        else:\n",
    "            print('Already initialized')\n",
    "        return self.delobj"
   ]
  },
  {
   "cell_type": "code",
   "execution_count": 48,
   "id": "6682705e",
   "metadata": {},
   "outputs": [],
   "source": [
    "delobj1 = Deloitte()"
   ]
  },
  {
   "cell_type": "code",
   "execution_count": 49,
   "id": "6e67c927",
   "metadata": {},
   "outputs": [],
   "source": [
    "delobj = delobj1.ini()"
   ]
  },
  {
   "cell_type": "code",
   "execution_count": 50,
   "id": "e280ccb9",
   "metadata": {},
   "outputs": [
    {
     "name": "stdout",
     "output_type": "stream",
     "text": [
      "<__main__.Deloitte object at 0x000002DC3DB6F610>\n"
     ]
    }
   ],
   "source": [
    "print(delobj)"
   ]
  },
  {
   "cell_type": "code",
   "execution_count": null,
   "id": "02f82c5a",
   "metadata": {},
   "outputs": [],
   "source": []
  },
  {
   "cell_type": "code",
   "execution_count": null,
   "id": "2e654919",
   "metadata": {},
   "outputs": [],
   "source": []
  },
  {
   "cell_type": "code",
   "execution_count": null,
   "id": "ebc33ff2",
   "metadata": {},
   "outputs": [],
   "source": []
  },
  {
   "cell_type": "code",
   "execution_count": null,
   "id": "21636966",
   "metadata": {},
   "outputs": [],
   "source": []
  },
  {
   "cell_type": "code",
   "execution_count": null,
   "id": "25965b52",
   "metadata": {},
   "outputs": [],
   "source": []
  },
  {
   "cell_type": "code",
   "execution_count": null,
   "id": "f0c437d3",
   "metadata": {},
   "outputs": [],
   "source": []
  },
  {
   "cell_type": "code",
   "execution_count": null,
   "id": "971a730d",
   "metadata": {},
   "outputs": [],
   "source": []
  },
  {
   "cell_type": "code",
   "execution_count": null,
   "id": "32a1570d",
   "metadata": {},
   "outputs": [],
   "source": []
  }
 ],
 "metadata": {
  "kernelspec": {
   "display_name": "Python 3",
   "language": "python",
   "name": "python3"
  },
  "language_info": {
   "codemirror_mode": {
    "name": "ipython",
    "version": 3
   },
   "file_extension": ".py",
   "mimetype": "text/x-python",
   "name": "python",
   "nbconvert_exporter": "python",
   "pygments_lexer": "ipython3",
   "version": "3.8.8"
  }
 },
 "nbformat": 4,
 "nbformat_minor": 5
}
