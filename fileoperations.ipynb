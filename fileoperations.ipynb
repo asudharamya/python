{
 "cells": [
  {
   "cell_type": "code",
   "execution_count": 2,
   "id": "af4c8dbe",
   "metadata": {},
   "outputs": [],
   "source": [
    "f=open(\"example.txt\",'r')"
   ]
  },
  {
   "cell_type": "code",
   "execution_count": 3,
   "id": "6e799407",
   "metadata": {},
   "outputs": [
    {
     "data": {
      "text/plain": [
       "<_io.TextIOWrapper name='example.txt' mode='r' encoding='cp1252'>"
      ]
     },
     "execution_count": 3,
     "metadata": {},
     "output_type": "execute_result"
    }
   ],
   "source": [
    "f"
   ]
  },
  {
   "cell_type": "code",
   "execution_count": 4,
   "id": "cae5f02d",
   "metadata": {},
   "outputs": [],
   "source": [
    "data=f.read()"
   ]
  },
  {
   "cell_type": "code",
   "execution_count": 5,
   "id": "21225f19",
   "metadata": {},
   "outputs": [
    {
     "name": "stdout",
     "output_type": "stream",
     "text": [
      "india\n",
      "africa\n",
      "japan\n",
      "america\n"
     ]
    }
   ],
   "source": [
    "print(data)"
   ]
  },
  {
   "cell_type": "code",
   "execution_count": 7,
   "id": "e9e705a2",
   "metadata": {},
   "outputs": [],
   "source": [
    "import pandas"
   ]
  },
  {
   "cell_type": "code",
   "execution_count": 8,
   "id": "668f9777",
   "metadata": {},
   "outputs": [],
   "source": [
    "mydataset={'cars':[\"bmw\",\"volvo\"],'passings':[3,7,]}"
   ]
  },
  {
   "cell_type": "code",
   "execution_count": 11,
   "id": "0ca2e7d4",
   "metadata": {},
   "outputs": [],
   "source": [
    "t=pandas.DataFrame(mydataset)"
   ]
  },
  {
   "cell_type": "code",
   "execution_count": 12,
   "id": "48eb55e7",
   "metadata": {},
   "outputs": [
    {
     "data": {
      "text/html": [
       "<div>\n",
       "<style scoped>\n",
       "    .dataframe tbody tr th:only-of-type {\n",
       "        vertical-align: middle;\n",
       "    }\n",
       "\n",
       "    .dataframe tbody tr th {\n",
       "        vertical-align: top;\n",
       "    }\n",
       "\n",
       "    .dataframe thead th {\n",
       "        text-align: right;\n",
       "    }\n",
       "</style>\n",
       "<table border=\"1\" class=\"dataframe\">\n",
       "  <thead>\n",
       "    <tr style=\"text-align: right;\">\n",
       "      <th></th>\n",
       "      <th>cars</th>\n",
       "      <th>passings</th>\n",
       "    </tr>\n",
       "  </thead>\n",
       "  <tbody>\n",
       "    <tr>\n",
       "      <th>0</th>\n",
       "      <td>bmw</td>\n",
       "      <td>3</td>\n",
       "    </tr>\n",
       "    <tr>\n",
       "      <th>1</th>\n",
       "      <td>volvo</td>\n",
       "      <td>7</td>\n",
       "    </tr>\n",
       "  </tbody>\n",
       "</table>\n",
       "</div>"
      ],
      "text/plain": [
       "    cars  passings\n",
       "0    bmw         3\n",
       "1  volvo         7"
      ]
     },
     "execution_count": 12,
     "metadata": {},
     "output_type": "execute_result"
    }
   ],
   "source": [
    "t"
   ]
  },
  {
   "cell_type": "code",
   "execution_count": 13,
   "id": "f9f476bc",
   "metadata": {},
   "outputs": [],
   "source": [
    "mydataset1={'rollnum':[1,2,3],'name':['aswi','padu','tej'],'session':['05-10-21','06-10-21','07-10-21']}"
   ]
  },
  {
   "cell_type": "code",
   "execution_count": 14,
   "id": "31c5a626",
   "metadata": {},
   "outputs": [],
   "source": [
    "t=pandas.DataFrame(mydataset1)"
   ]
  },
  {
   "cell_type": "code",
   "execution_count": 15,
   "id": "73cf3524",
   "metadata": {},
   "outputs": [
    {
     "name": "stdout",
     "output_type": "stream",
     "text": [
      "   rollnum  name   session\n",
      "0        1  aswi  05-10-21\n",
      "1        2  padu  06-10-21\n",
      "2        3   tej  07-10-21\n"
     ]
    }
   ],
   "source": [
    "print(t)"
   ]
  },
  {
   "cell_type": "code",
   "execution_count": 17,
   "id": "c8764455",
   "metadata": {},
   "outputs": [],
   "source": [
    "t.to_excel(\"export.xlsx\")"
   ]
  },
  {
   "cell_type": "code",
   "execution_count": null,
   "id": "d9b09ea2",
   "metadata": {},
   "outputs": [],
   "source": []
  },
  {
   "cell_type": "code",
   "execution_count": null,
   "id": "87c96188",
   "metadata": {},
   "outputs": [],
   "source": []
  }
 ],
 "metadata": {
  "kernelspec": {
   "display_name": "Python 3",
   "language": "python",
   "name": "python3"
  },
  "language_info": {
   "codemirror_mode": {
    "name": "ipython",
    "version": 3
   },
   "file_extension": ".py",
   "mimetype": "text/x-python",
   "name": "python",
   "nbconvert_exporter": "python",
   "pygments_lexer": "ipython3",
   "version": "3.8.8"
  }
 },
 "nbformat": 4,
 "nbformat_minor": 5
}
